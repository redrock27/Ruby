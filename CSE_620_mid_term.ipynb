{
  "nbformat": 4,
  "nbformat_minor": 0,
  "metadata": {
    "colab": {
      "provenance": [],
      "authorship_tag": "ABX9TyMEkcAdAMMF5gifK2rQIEbF",
      "include_colab_link": true
    },
    "kernelspec": {
      "name": "python3",
      "display_name": "Python 3"
    },
    "language_info": {
      "name": "python"
    }
  },
  "cells": [
    {
      "cell_type": "markdown",
      "metadata": {
        "id": "view-in-github",
        "colab_type": "text"
      },
      "source": [
        "<a href=\"https://colab.research.google.com/github/redrock27/Ruby/blob/main/CSE_620_mid_term.ipynb\" target=\"_parent\"><img src=\"https://colab.research.google.com/assets/colab-badge.svg\" alt=\"Open In Colab\"/></a>"
      ]
    },
    {
      "cell_type": "markdown",
      "source": [
        "#**CSE- 620- Mid term Exam**\n",
        "\n",
        "**Tauqir Fatima **"
      ],
      "metadata": {
        "id": "BIDTKt8THVNQ"
      }
    },
    {
      "cell_type": "code",
      "source": [
        "import numpy as np\n",
        "from itertools import permutations\n",
        "\n",
        "# Distance matrix based on the given table\n",
        "distance_matrix = np.array([\n",
        "    [np.inf, 4, 5, 7],\n",
        "    [4, np.inf, 7, 8],\n",
        "    [5, 7, np.inf, 15],\n",
        "    [7, 8, 15, np.inf]\n",
        "])\n",
        "\n",
        "# Define the number of cities\n",
        "num_cities = distance_matrix.shape[0]\n",
        "\n",
        "def calculate_tour_length(tour):\n",
        "    length = 0\n",
        "    for i in range(len(tour)):\n",
        "        length += distance_matrix[tour[i], tour[(i + 1) % len(tour)]]\n",
        "    return length\n",
        "\n",
        "def exhaustive_search(num_cities):\n",
        "    cities = range(num_cities)\n",
        "    optimal_tour = None\n",
        "    optimal_length = np.inf\n",
        "    all_tours = []\n",
        "\n",
        "    # Generate all permutations of the cities (excluding the first city for the start point)\n",
        "    for perm in permutations(cities[1:]):\n",
        "        tour = (0,) + perm  # Start and end at city 0 (City 1)\n",
        "        length = calculate_tour_length(tour)\n",
        "        all_tours.append((tour, length))\n",
        "\n",
        "        if length < optimal_length:\n",
        "            optimal_length = length\n",
        "            optimal_tour = tour\n",
        "\n",
        "    return optimal_tour, optimal_length, all_tours\n",
        "\n",
        "# Run the exhaustive search algorithm\n",
        "optimal_tour, optimal_length, all_tours = exhaustive_search(num_cities)\n",
        "\n",
        "# Display the optimal tour and length\n",
        "print(f\"Optimal Tour: {optimal_tour}, Length: {optimal_length}\")\n",
        "print(\"\\nAll Tours and Their Lengths:\")\n",
        "for tour, length in all_tours:\n",
        "    print(f\"Tour: {tour}, Length: {length}\")"
      ],
      "metadata": {
        "colab": {
          "base_uri": "https://localhost:8080/"
        },
        "id": "FryjYwfcGcY7",
        "outputId": "b397d723-eb23-4777-e662-c63c5fbc9fa9"
      },
      "execution_count": 2,
      "outputs": [
        {
          "output_type": "stream",
          "name": "stdout",
          "text": [
            "Optimal Tour: (0, 2, 1, 3), Length: 27.0\n",
            "\n",
            "All Tours and Their Lengths:\n",
            "Tour: (0, 1, 2, 3), Length: 33.0\n",
            "Tour: (0, 1, 3, 2), Length: 32.0\n",
            "Tour: (0, 2, 1, 3), Length: 27.0\n",
            "Tour: (0, 2, 3, 1), Length: 32.0\n",
            "Tour: (0, 3, 1, 2), Length: 27.0\n",
            "Tour: (0, 3, 2, 1), Length: 33.0\n"
          ]
        }
      ]
    },
    {
      "cell_type": "code",
      "execution_count": 3,
      "metadata": {
        "colab": {
          "base_uri": "https://localhost:8080/"
        },
        "id": "-wHO-Q5SFILv",
        "outputId": "4e9f06a7-a601-46f6-f3a3-0fef9052b824"
      },
      "outputs": [
        {
          "output_type": "stream",
          "name": "stdout",
          "text": [
            "Tour: [0, 2, 1, 3, 4, 0], Length: 54.0\n"
          ]
        }
      ],
      "source": [
        "import numpy as np\n",
        "\n",
        "# Distance matrix based on the given table\n",
        "distance_matrix = np.array([\n",
        "    [np.inf, 8, 13, 18, 17],\n",
        "    [8, np.inf, 2, 6, 6],\n",
        "    [13, 2, np.inf, 14, 16],\n",
        "    [18, 6, 14, np.inf, 16],\n",
        "    [17, 6, 16, 16, np.inf]\n",
        "])\n",
        "\n",
        "# Initial tour: 1 → 3 → 2 → 4 → 5 → 1 (0-indexed in the code)\n",
        "initial_tour = [0, 2, 1, 3, 4, 0]\n",
        "\n",
        "def calculate_tour_length(tour):\n",
        "    length = 0\n",
        "    for i in range(len(tour) - 1):\n",
        "        length += distance_matrix[tour[i], tour[i + 1]]\n",
        "    return length\n",
        "\n",
        "def generate_2_change_neighborhood(tour):\n",
        "    neighborhood = []\n",
        "    n = len(tour) - 1  # Exclude return to starting city\n",
        "    for i in range(1, n - 2):  # First index (1) and last index (n-1) are fixed\n",
        "        for j in range(i + 2, n):  # j must be at least two ahead of i\n",
        "            # Create a new tour by swapping edges\n",
        "            new_tour = tour[:]\n",
        "            new_tour[i], new_tour[j] = new_tour[j], new_tour[i]\n",
        "            neighborhood.append(new_tour)\n",
        "    return neighborhood\n",
        "\n",
        "def hill_climbing(initial_tour):\n",
        "    current_tour = initial_tour\n",
        "    current_length = calculate_tour_length(current_tour)\n",
        "    steps = [(current_tour, current_length)]\n",
        "\n",
        "    while True:\n",
        "        neighborhood = generate_2_change_neighborhood(current_tour)\n",
        "        best_tour = current_tour\n",
        "        best_length = current_length\n",
        "\n",
        "        for neighbor in neighborhood:\n",
        "            neighbor_length = calculate_tour_length(neighbor)\n",
        "            if neighbor_length < best_length:\n",
        "                best_tour = neighbor\n",
        "                best_length = neighbor_length\n",
        "\n",
        "        if best_length >= current_length:\n",
        "            break  # No improvement found\n",
        "\n",
        "        current_tour = best_tour\n",
        "        current_length = best_length\n",
        "        steps.append((current_tour, current_length))\n",
        "\n",
        "    return steps\n",
        "\n",
        "# Run the hill climbing algorithm\n",
        "steps = hill_climbing(initial_tour)\n",
        "\n",
        "# Display all steps\n",
        "for step in steps:\n",
        "    print(f\"Tour: {step[0]}, Length: {step[1]}\")"
      ]
    }
  ]
}